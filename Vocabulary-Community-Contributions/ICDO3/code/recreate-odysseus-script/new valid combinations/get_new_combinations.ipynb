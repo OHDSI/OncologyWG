{
 "cells": [
  {
   "cell_type": "code",
   "execution_count": 1,
   "id": "35ddb018",
   "metadata": {},
   "outputs": [],
   "source": [
    "import re\n",
    "import pandas as pd"
   ]
  },
  {
   "cell_type": "code",
   "execution_count": 2,
   "id": "46913008",
   "metadata": {},
   "outputs": [],
   "source": [
    "df_invalid_histologies_mapping = pd.read_csv('invalid ICDO3 histologies mapping.csv')\n",
    "df_valid_histologies = pd.read_csv('valid ICDO3 histologies.csv')"
   ]
  },
  {
   "cell_type": "code",
   "execution_count": 3,
   "id": "5ccc557a",
   "metadata": {},
   "outputs": [],
   "source": [
    "df_PathCHART = pd.read_csv('2024_CPC_SMVL_08292023.csv')\n",
    "df_PathCHART['histology'] = df_PathCHART['Hist'].astype(str)+'/'+df_PathCHART['Behavior'].astype(str)\n",
    "df_PathCHART['topography'] = df_PathCHART['C_Site'].str[:3]+'.'+df_PathCHART['C_Site'].str[3:4]\n",
    "df_PathCHART['condition'] = df_PathCHART['histology']+'-'+df_PathCHART['topography']\n",
    "df_PathCHART_likely = df_PathCHART[df_PathCHART['Status']==1]\n",
    "df_PathCHART_likely = df_PathCHART_likely.reset_index()\n",
    "df_PathCHART_likely = df_PathCHART_likely[['condition','histology','topography']]\n",
    "\n",
    "df_PathCHART_32_likely = df_PathCHART_likely.loc[df_PathCHART_likely['histology'].isin(df_valid_histologies['histology'])]\n",
    "df_PathCHART_non32_likely = df_PathCHART_likely.loc[~df_PathCHART_likely['histology'].isin(df_valid_histologies['histology'])]\n",
    "df_t = df_PathCHART_non32_likely.set_index('histology').join(df_invalid_histologies_mapping.set_index('histology_old'),how='inner')\n",
    "df_t['condition_new']=df_t['histology_new']+'-'+df_t['topography']\n",
    "df_t.reset_index(drop=True, inplace=True)\n",
    "df_t.rename({'index':'histology_old'},axis='columns',inplace=True)\n",
    "df_t.rename({'histology':'histology_old'},axis='columns',inplace=True)\n",
    "df_t = df_t[['condition_new','histology_new','topography']]\n",
    "df_t.rename({'condition_new':'condition','histology_new':'histology'},axis='columns',inplace=True)\n",
    "df_PathCHART_likely = pd.concat([df_PathCHART_32_likely,df_t])\n",
    "df_PathCHART_likely = df_PathCHART_likely.drop_duplicates()"
   ]
  },
  {
   "cell_type": "code",
   "execution_count": 4,
   "id": "325d2089",
   "metadata": {},
   "outputs": [
    {
     "data": {
      "text/plain": [
       "45910"
      ]
     },
     "execution_count": 4,
     "metadata": {},
     "output_type": "execute_result"
    }
   ],
   "source": [
    "len(df_PathCHART_likely)"
   ]
  },
  {
   "cell_type": "code",
   "execution_count": 5,
   "id": "f92a1b31",
   "metadata": {},
   "outputs": [],
   "source": [
    "with open('valid_codes.txt', 'r') as f:\n",
    "    IARC_valid_codes = []\n",
    "    for line in f:\n",
    "        IARC_valid_codes.append(line[9:21])\n",
    "IARC_valid_codes = set(IARC_valid_codes)        \n",
    "with open('codes.chk', 'r') as f:\n",
    "    IARC_codes_with_warning = []\n",
    "    for line in f:\n",
    "        if re.match(r'^[0-9]+:', line):\n",
    "            IARC_codes_with_warning.append(line[9:21])\n",
    "            \n",
    "IARC_codes_with_warning = set(IARC_codes_with_warning)\n",
    "IARC_likely_codes = set(IARC_valid_codes.difference(IARC_codes_with_warning))\n",
    "df_IARC_likely = pd.DataFrame(data=IARC_likely_codes)\n",
    "df_IARC_likely.rename(mapper={0:'condition'},axis='columns',inplace=True)\n",
    "df_IARC_likely['histology']=df_IARC_likely['condition'].str[:6]\n",
    "df_IARC_likely['topography']=df_IARC_likely['condition'].str[7:12]\n",
    "\n",
    "df_IARC_32 = df_IARC_likely.loc[df_IARC_likely['histology'].isin(df_valid_histologies['histology'])]\n",
    "df_IARC_non32 = df_IARC_likely.loc[~df_IARC_likely['histology'].isin(df_valid_histologies['histology'])]\n",
    "df_t = df_IARC_non32.set_index('histology').join(df_invalid_histologies_mapping.set_index('histology_old'),how='inner')\n",
    "df_t['condition_new']=df_t['histology_new']+'-'+df_t['topography']\n",
    "df_t.reset_index(drop=True, inplace=True)\n",
    "df_t.rename({'index':'histology_old'},axis='columns',inplace=True)\n",
    "df_t.rename({'histology':'histology_old'},axis='columns',inplace=True)\n",
    "df_t = df_t[['condition_new','histology_new','topography']]\n",
    "df_t.rename({'condition_new':'condition','histology_new':'histology'},axis='columns',inplace=True)\n",
    "df_IARC_likely = pd.concat([df_IARC_32,df_t])\n",
    "df_IARC_likely = df_IARC_likely.drop_duplicates()"
   ]
  },
  {
   "cell_type": "code",
   "execution_count": 6,
   "id": "c894b559",
   "metadata": {},
   "outputs": [
    {
     "data": {
      "text/plain": [
       "63163"
      ]
     },
     "execution_count": 6,
     "metadata": {},
     "output_type": "execute_result"
    }
   ],
   "source": [
    "len(df_IARC_likely)"
   ]
  },
  {
   "cell_type": "code",
   "execution_count": 7,
   "id": "952780ce",
   "metadata": {},
   "outputs": [],
   "source": [
    "df_likely = pd.concat([df_IARC_likely,df_PathCHART_likely])\n",
    "df_likely = df_likely.drop_duplicates()\n",
    "df_likely.reset_index(drop=True, inplace=True)"
   ]
  },
  {
   "cell_type": "code",
   "execution_count": 8,
   "id": "ec9a0172",
   "metadata": {},
   "outputs": [
    {
     "data": {
      "text/plain": [
       "74057"
      ]
     },
     "execution_count": 8,
     "metadata": {},
     "output_type": "execute_result"
    }
   ],
   "source": [
    "len(df_likely)"
   ]
  },
  {
   "cell_type": "code",
   "execution_count": 20,
   "id": "c9f9e84e",
   "metadata": {},
   "outputs": [],
   "source": [
    "df_OMOP = pd.read_csv('icdo3_valid_combination.csv')\n",
    "df_OMOP['topography'] = df_OMOP['site'].str.strip(\"'\")\n",
    "df_OMOP['histology'] = df_OMOP['histology_behavior'].str.strip(\"'\")\n",
    "df_OMOP['condition'] = df_OMOP['histology']+'-'+df_OMOP['topography']\n",
    "df_OMOP = df_OMOP[['condition','histology','topography']]"
   ]
  },
  {
   "cell_type": "code",
   "execution_count": 21,
   "id": "1f292ad5",
   "metadata": {},
   "outputs": [
    {
     "data": {
      "text/html": [
       "<div>\n",
       "<style scoped>\n",
       "    .dataframe tbody tr th:only-of-type {\n",
       "        vertical-align: middle;\n",
       "    }\n",
       "\n",
       "    .dataframe tbody tr th {\n",
       "        vertical-align: top;\n",
       "    }\n",
       "\n",
       "    .dataframe thead th {\n",
       "        text-align: right;\n",
       "    }\n",
       "</style>\n",
       "<table border=\"1\" class=\"dataframe\">\n",
       "  <thead>\n",
       "    <tr style=\"text-align: right;\">\n",
       "      <th></th>\n",
       "      <th>condition</th>\n",
       "      <th>histology</th>\n",
       "      <th>topography</th>\n",
       "    </tr>\n",
       "  </thead>\n",
       "  <tbody>\n",
       "    <tr>\n",
       "      <th>0</th>\n",
       "      <td>9080/0-C72.4</td>\n",
       "      <td>9080/0</td>\n",
       "      <td>C72.4</td>\n",
       "    </tr>\n",
       "    <tr>\n",
       "      <th>1</th>\n",
       "      <td>8052/2-C06.9</td>\n",
       "      <td>8052/2</td>\n",
       "      <td>C06.9</td>\n",
       "    </tr>\n",
       "    <tr>\n",
       "      <th>2</th>\n",
       "      <td>9200/0-C31.2</td>\n",
       "      <td>9200/0</td>\n",
       "      <td>C31.2</td>\n",
       "    </tr>\n",
       "    <tr>\n",
       "      <th>3</th>\n",
       "      <td>9691/3-C10.2</td>\n",
       "      <td>9691/3</td>\n",
       "      <td>C10.2</td>\n",
       "    </tr>\n",
       "    <tr>\n",
       "      <th>4</th>\n",
       "      <td>9727/3-C42.2</td>\n",
       "      <td>9727/3</td>\n",
       "      <td>C42.2</td>\n",
       "    </tr>\n",
       "    <tr>\n",
       "      <th>...</th>\n",
       "      <td>...</td>\n",
       "      <td>...</td>\n",
       "      <td>...</td>\n",
       "    </tr>\n",
       "    <tr>\n",
       "      <th>59187</th>\n",
       "      <td>9712/3-C49.0</td>\n",
       "      <td>9712/3</td>\n",
       "      <td>C49.0</td>\n",
       "    </tr>\n",
       "    <tr>\n",
       "      <th>59188</th>\n",
       "      <td>9702/3-C09.8</td>\n",
       "      <td>9702/3</td>\n",
       "      <td>C09.8</td>\n",
       "    </tr>\n",
       "    <tr>\n",
       "      <th>59189</th>\n",
       "      <td>8980/3-C16.6</td>\n",
       "      <td>8980/3</td>\n",
       "      <td>C16.6</td>\n",
       "    </tr>\n",
       "    <tr>\n",
       "      <th>59190</th>\n",
       "      <td>9505/1-C71.1</td>\n",
       "      <td>9505/1</td>\n",
       "      <td>C71.1</td>\n",
       "    </tr>\n",
       "    <tr>\n",
       "      <th>59191</th>\n",
       "      <td>8271/0-C75.2</td>\n",
       "      <td>8271/0</td>\n",
       "      <td>C75.2</td>\n",
       "    </tr>\n",
       "  </tbody>\n",
       "</table>\n",
       "<p>59192 rows × 3 columns</p>\n",
       "</div>"
      ],
      "text/plain": [
       "          condition histology topography\n",
       "0      9080/0-C72.4    9080/0      C72.4\n",
       "1      8052/2-C06.9    8052/2      C06.9\n",
       "2      9200/0-C31.2    9200/0      C31.2\n",
       "3      9691/3-C10.2    9691/3      C10.2\n",
       "4      9727/3-C42.2    9727/3      C42.2\n",
       "...             ...       ...        ...\n",
       "59187  9712/3-C49.0    9712/3      C49.0\n",
       "59188  9702/3-C09.8    9702/3      C09.8\n",
       "59189  8980/3-C16.6    8980/3      C16.6\n",
       "59190  9505/1-C71.1    9505/1      C71.1\n",
       "59191  8271/0-C75.2    8271/0      C75.2\n",
       "\n",
       "[59192 rows x 3 columns]"
      ]
     },
     "execution_count": 21,
     "metadata": {},
     "output_type": "execute_result"
    }
   ],
   "source": [
    "df_OMOP"
   ]
  },
  {
   "cell_type": "code",
   "execution_count": 22,
   "id": "b1e097ad",
   "metadata": {},
   "outputs": [],
   "source": [
    "df_all = pd.concat([df_likely,df_OMOP])\n",
    "df_all = df_all.drop_duplicates()\n",
    "df_all.reset_index(drop=True, inplace=True)"
   ]
  },
  {
   "cell_type": "code",
   "execution_count": 23,
   "id": "b2df7a03",
   "metadata": {},
   "outputs": [
    {
     "data": {
      "text/plain": [
       "83762"
      ]
     },
     "execution_count": 23,
     "metadata": {},
     "output_type": "execute_result"
    }
   ],
   "source": [
    "len(df_all)"
   ]
  },
  {
   "cell_type": "code",
   "execution_count": 24,
   "id": "1496d84c",
   "metadata": {},
   "outputs": [
    {
     "data": {
      "text/plain": [
       "24570"
      ]
     },
     "execution_count": 24,
     "metadata": {},
     "output_type": "execute_result"
    }
   ],
   "source": [
    "len(df_all) - len(df_OMOP)"
   ]
  },
  {
   "cell_type": "code",
   "execution_count": 25,
   "id": "ac1d5e9e",
   "metadata": {},
   "outputs": [
    {
     "name": "stderr",
     "output_type": "stream",
     "text": [
      "C:\\Temp\\ipykernel_28740\\3719078262.py:2: SettingWithCopyWarning: \n",
      "A value is trying to be set on a copy of a slice from a DataFrame\n",
      "\n",
      "See the caveats in the documentation: https://pandas.pydata.org/pandas-docs/stable/user_guide/indexing.html#returning-a-view-versus-a-copy\n",
      "  df_to_excel.rename({'histology':'histology_behavior','topography':'site'},axis='columns',inplace=True)\n"
     ]
    }
   ],
   "source": [
    "df_to_excel['histology_behavior'] = '''''df_all['histology']\n",
    "\n",
    "= df_all[['histology','topography']]\n",
    "\n",
    "df_to_excel.rename({'histology':'histology_behavior','topography':'site'},axis='columns',inplace=True)"
   ]
  },
  {
   "cell_type": "code",
   "execution_count": null,
   "id": "d41d35a3",
   "metadata": {},
   "outputs": [],
   "source": [
    "df_to_excel.to_csv('icdo3_valid_combination_new.csv',index=False)"
   ]
  },
  {
   "cell_type": "code",
   "execution_count": 26,
   "id": "c20cfe73",
   "metadata": {},
   "outputs": [
    {
     "data": {
      "text/html": [
       "<div>\n",
       "<style scoped>\n",
       "    .dataframe tbody tr th:only-of-type {\n",
       "        vertical-align: middle;\n",
       "    }\n",
       "\n",
       "    .dataframe tbody tr th {\n",
       "        vertical-align: top;\n",
       "    }\n",
       "\n",
       "    .dataframe thead th {\n",
       "        text-align: right;\n",
       "    }\n",
       "</style>\n",
       "<table border=\"1\" class=\"dataframe\">\n",
       "  <thead>\n",
       "    <tr style=\"text-align: right;\">\n",
       "      <th></th>\n",
       "      <th>histology_behavior</th>\n",
       "      <th>site</th>\n",
       "    </tr>\n",
       "  </thead>\n",
       "  <tbody>\n",
       "    <tr>\n",
       "      <th>0</th>\n",
       "      <td>9701/3</td>\n",
       "      <td>C24.0</td>\n",
       "    </tr>\n",
       "    <tr>\n",
       "      <th>1</th>\n",
       "      <td>9650/3</td>\n",
       "      <td>C39.8</td>\n",
       "    </tr>\n",
       "    <tr>\n",
       "      <th>2</th>\n",
       "      <td>8940/3</td>\n",
       "      <td>C51.0</td>\n",
       "    </tr>\n",
       "    <tr>\n",
       "      <th>3</th>\n",
       "      <td>8001/3</td>\n",
       "      <td>C76.4</td>\n",
       "    </tr>\n",
       "    <tr>\n",
       "      <th>4</th>\n",
       "      <td>9691/3</td>\n",
       "      <td>C49.2</td>\n",
       "    </tr>\n",
       "    <tr>\n",
       "      <th>...</th>\n",
       "      <td>...</td>\n",
       "      <td>...</td>\n",
       "    </tr>\n",
       "    <tr>\n",
       "      <th>83757</th>\n",
       "      <td>9754/3</td>\n",
       "      <td>C13.8</td>\n",
       "    </tr>\n",
       "    <tr>\n",
       "      <th>83758</th>\n",
       "      <td>9220/0</td>\n",
       "      <td>C31.8</td>\n",
       "    </tr>\n",
       "    <tr>\n",
       "      <th>83759</th>\n",
       "      <td>8642/1</td>\n",
       "      <td>C62.9</td>\n",
       "    </tr>\n",
       "    <tr>\n",
       "      <th>83760</th>\n",
       "      <td>8120/2</td>\n",
       "      <td>C26.9</td>\n",
       "    </tr>\n",
       "    <tr>\n",
       "      <th>83761</th>\n",
       "      <td>9533/1</td>\n",
       "      <td>C70.1</td>\n",
       "    </tr>\n",
       "  </tbody>\n",
       "</table>\n",
       "<p>83762 rows × 2 columns</p>\n",
       "</div>"
      ],
      "text/plain": [
       "      histology_behavior   site\n",
       "0                 9701/3  C24.0\n",
       "1                 9650/3  C39.8\n",
       "2                 8940/3  C51.0\n",
       "3                 8001/3  C76.4\n",
       "4                 9691/3  C49.2\n",
       "...                  ...    ...\n",
       "83757             9754/3  C13.8\n",
       "83758             9220/0  C31.8\n",
       "83759             8642/1  C62.9\n",
       "83760             8120/2  C26.9\n",
       "83761             9533/1  C70.1\n",
       "\n",
       "[83762 rows x 2 columns]"
      ]
     },
     "execution_count": 26,
     "metadata": {},
     "output_type": "execute_result"
    }
   ],
   "source": [
    "df_to_excel"
   ]
  },
  {
   "cell_type": "code",
   "execution_count": null,
   "id": "b9e5709c",
   "metadata": {},
   "outputs": [],
   "source": []
  }
 ],
 "metadata": {
  "kernelspec": {
   "display_name": "Python 3 (ipykernel)",
   "language": "python",
   "name": "python3"
  },
  "language_info": {
   "codemirror_mode": {
    "name": "ipython",
    "version": 3
   },
   "file_extension": ".py",
   "mimetype": "text/x-python",
   "name": "python",
   "nbconvert_exporter": "python",
   "pygments_lexer": "ipython3",
   "version": "3.10.9"
  }
 },
 "nbformat": 4,
 "nbformat_minor": 5
}
