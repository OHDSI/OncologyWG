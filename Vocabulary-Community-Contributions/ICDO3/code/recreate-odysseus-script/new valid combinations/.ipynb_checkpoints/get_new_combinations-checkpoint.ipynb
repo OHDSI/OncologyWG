{
 "cells": [
  {
   "cell_type": "code",
   "execution_count": 1,
   "id": "65eee734",
   "metadata": {},
   "outputs": [],
   "source": [
    "import re\n",
    "import pandas as pd"
   ]
  },
  {
   "cell_type": "code",
   "execution_count": 6,
   "id": "d86578ad",
   "metadata": {},
   "outputs": [],
   "source": [
    "df_invalid_histologies_mapping = pd.read_csv('invalid ICDO3 histologies mapping.csv')\n",
    "df_valid_histologies = pd.read_csv('valid ICDO3 histologies.csv')"
   ]
  },
  {
   "cell_type": "code",
   "execution_count": 33,
   "id": "62a70e87",
   "metadata": {},
   "outputs": [],
   "source": [
    "df_PathCHART = pd.read_csv('2024_CPC_SMVL_08292023.csv')\n",
    "df_PathCHART['histology'] = df_PathCHART['Hist'].astype(str)+'/'+df_PathCHART['Behavior'].astype(str)\n",
    "df_PathCHART['topography'] = df_PathCHART['C_Site'].str[:3]+'.'+df_PathCHART['C_Site'].str[3:4]\n",
    "df_PathCHART['condition'] = df_PathCHART['histology']+'-'+df_PathCHART['topography']\n",
    "df_PathCHART_likely = df_PathCHART[df_PathCHART['Status']==1]\n",
    "df_PathCHART_likely = df_PathCHART_likely.reset_index()\n",
    "df_PathCHART_likely = df_PathCHART_likely[['condition','histology','topography']]\n",
    "\n",
    "df_PathCHART_32_likely = df_PathCHART_likely.loc[df_PathCHART_likely['histology'].isin(df_valid_histologies['histology'])]\n",
    "df_PathCHART_non32_likely = df_PathCHART_likely.loc[~df_PathCHART_likely['histology'].isin(df_valid_histologies['histology'])]\n",
    "df_t = df_PathCHART_non32_likely.set_index('histology').join(df_invalid_histologies_mapping.set_index('histology_old'),how='inner')\n",
    "df_t['condition_new']=df_t['histology_new']+'-'+df_t['topography']\n",
    "df_t.reset_index(drop=True, inplace=True)\n",
    "df_t.rename({'index':'histology_old'},axis='columns',inplace=True)\n",
    "df_t.rename({'histology':'histology_old'},axis='columns',inplace=True)\n",
    "df_t = df_t[['condition_new','histology_new','topography']]\n",
    "df_t.rename({'condition_new':'condition','histology_new':'histology'},axis='columns',inplace=True)\n",
    "df_PathCHART_likely = pd.concat([df_PathCHART_32_likely,df_t])\n",
    "df_PathCHART_likely = df_PathCHART_likely.drop_duplicates()"
   ]
  },
  {
   "cell_type": "code",
   "execution_count": 34,
   "id": "ae15f44a",
   "metadata": {},
   "outputs": [
    {
     "data": {
      "text/plain": [
       "45910"
      ]
     },
     "execution_count": 34,
     "metadata": {},
     "output_type": "execute_result"
    }
   ],
   "source": [
    "len(df_PathCHART_likely)"
   ]
  },
  {
   "cell_type": "code",
   "execution_count": 35,
   "id": "657df236",
   "metadata": {},
   "outputs": [],
   "source": [
    "with open('valid_codes.txt', 'r') as f:\n",
    "    IARC_valid_codes = []\n",
    "    for line in f:\n",
    "        IARC_valid_codes.append(line[9:21])\n",
    "IARC_valid_codes = set(IARC_valid_codes)        \n",
    "with open('codes.chk', 'r') as f:\n",
    "    IARC_codes_with_warning = []\n",
    "    for line in f:\n",
    "        if re.match(r'^[0-9]+:', line):\n",
    "            IARC_codes_with_warning.append(line[9:21])\n",
    "            \n",
    "IARC_codes_with_warning = set(IARC_codes_with_warning)\n",
    "IARC_likely_codes = set(IARC_valid_codes.difference(IARC_codes_with_warning))\n",
    "df_IARC_likely = pd.DataFrame(data=IARC_likely_codes)\n",
    "df_IARC_likely.rename(mapper={0:'condition'},axis='columns',inplace=True)\n",
    "df_IARC_likely['histology']=df_IARC_likely['condition'].str[:6]\n",
    "df_IARC_likely['topography']=df_IARC_likely['condition'].str[7:12]\n",
    "\n",
    "df_IARC_32 = df_IARC_likely.loc[df_IARC_likely['histology'].isin(df_valid_histologies['histology'])]\n",
    "df_IARC_non32 = df_IARC_likely.loc[~df_IARC_likely['histology'].isin(df_valid_histologies['histology'])]\n",
    "df_t = df_IARC_non32.set_index('histology').join(df_invalid_histologies_mapping.set_index('histology_old'),how='inner')\n",
    "df_t['condition_new']=df_t['histology_new']+'-'+df_t['topography']\n",
    "df_t.reset_index(drop=True, inplace=True)\n",
    "df_t.rename({'index':'histology_old'},axis='columns',inplace=True)\n",
    "df_t.rename({'histology':'histology_old'},axis='columns',inplace=True)\n",
    "df_t = df_t[['condition_new','histology_new','topography']]\n",
    "df_t.rename({'condition_new':'condition','histology_new':'histology'},axis='columns',inplace=True)\n",
    "df_IARC_likely = pd.concat([df_IARC_32,df_t])\n",
    "df_IARC_likely = df_IARC_likely.drop_duplicates()"
   ]
  },
  {
   "cell_type": "code",
   "execution_count": 36,
   "id": "da49a1f4",
   "metadata": {},
   "outputs": [
    {
     "data": {
      "text/plain": [
       "63163"
      ]
     },
     "execution_count": 36,
     "metadata": {},
     "output_type": "execute_result"
    }
   ],
   "source": [
    "len(df_IARC_likely)"
   ]
  },
  {
   "cell_type": "code",
   "execution_count": null,
   "id": "836cf4b4",
   "metadata": {},
   "outputs": [],
   "source": [
    "df_likely = pd.concat([df_IARC_likely,df_PathCHART_likely])\n",
    "df_likely = df_likely.drop_duplicates()\n",
    "df_likely.reset_index(drop=True, inplace=True)"
   ]
  }
 ],
 "metadata": {
  "kernelspec": {
   "display_name": "Python 3 (ipykernel)",
   "language": "python",
   "name": "python3"
  },
  "language_info": {
   "codemirror_mode": {
    "name": "ipython",
    "version": 3
   },
   "file_extension": ".py",
   "mimetype": "text/x-python",
   "name": "python",
   "nbconvert_exporter": "python",
   "pygments_lexer": "ipython3",
   "version": "3.10.9"
  }
 },
 "nbformat": 4,
 "nbformat_minor": 5
}
